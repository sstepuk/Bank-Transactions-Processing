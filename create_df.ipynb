{
 "cells": [
  {
   "cell_type": "code",
   "execution_count": 1,
   "id": "de95a211-ee67-4b5a-a940-c3ff933e59ee",
   "metadata": {
    "tags": []
   },
   "outputs": [],
   "source": [
    "##Create our data frame based on user transaction"
   ]
  },
  {
   "cell_type": "code",
   "execution_count": null,
   "id": "f6567af8-4a50-4309-b44c-8a96f8368628",
   "metadata": {},
   "outputs": [],
   "source": [
    "import pandas as pd\n",
    "import math\n",
    "import seaborn as sns"
   ]
  },
  {
   "cell_type": "code",
   "execution_count": null,
   "id": "637fd212-e703-4ff3-a64c-1e105203e73d",
   "metadata": {},
   "outputs": [],
   "source": [
    "df_transactions = pd.read_csv('./data/transactions.csv')\n",
    "df_gender = pd.read_csv('./data/gender.csv')\n",
    "df_tr_mcc_codes = pd.read_csv('./data/tr_mcc_codes.csv', sep=';')\n",
    "df_tr_types = pd.read_csv('./data/tr_types.csv', sep=';')"
   ]
  },
  {
   "cell_type": "code",
   "execution_count": null,
   "id": "be5cf5d0-6437-4cce-a847-069a7f1fe510",
   "metadata": {},
   "outputs": [],
   "source": [
    "df_transactions = df_transactions.join(df_gender.set_index('customer_id'), on='customer_id')"
   ]
  },
  {
   "cell_type": "code",
   "execution_count": null,
   "id": "4df20ff8-1b86-4d60-929e-64305ecb8209",
   "metadata": {},
   "outputs": [],
   "source": [
    "df_transactions['amount'] = round(df_transactions['amount']/(22.459157718),3)"
   ]
  },
  {
   "cell_type": "code",
   "execution_count": null,
   "id": "dc63e5c6-3998-41ba-ac19-3129d06abdc0",
   "metadata": {},
   "outputs": [],
   "source": [
    "base_df = df_transactions[['customer_id', 'gender']]"
   ]
  },
  {
   "cell_type": "code",
   "execution_count": null,
   "id": "d0053ec4-a928-4a7e-9bd5-bb3869ad3bcf",
   "metadata": {},
   "outputs": [],
   "source": [
    "base_df = base_df.groupby(['customer_id']).mean()\n",
    "base_df = base_df.sort_values(by=['gender'])\n",
    "base_df"
   ]
  },
  {
   "cell_type": "markdown",
   "id": "aa059d6c-bb72-4693-9777-bc41ddcddb13",
   "metadata": {},
   "source": [
    "## Yearly transactions"
   ]
  },
  {
   "cell_type": "code",
   "execution_count": null,
   "id": "453dc1a7-545b-40ab-9c75-2f577a4dc75c",
   "metadata": {},
   "outputs": [],
   "source": [
    "plus_amount = df_transactions[['customer_id', 'amount']][df_transactions['amount']>0]\n",
    "plus_amount = plus_amount.groupby(['customer_id']).sum()\n",
    "plus_amount"
   ]
  },
  {
   "cell_type": "code",
   "execution_count": null,
   "id": "f8e452f8-6e65-43dd-b934-7a179d94680b",
   "metadata": {},
   "outputs": [],
   "source": [
    "base_df = base_df.join(plus_amount, on='customer_id')"
   ]
  },
  {
   "cell_type": "code",
   "execution_count": null,
   "id": "f0665d93-510a-4d73-83ab-3488f7398de7",
   "metadata": {},
   "outputs": [],
   "source": [
    "base_df['amount'] = base_df['amount'].fillna(0)"
   ]
  },
  {
   "attachments": {},
   "cell_type": "markdown",
   "id": "5a44704e-7882-4962-a4e6-b65a2e4bff10",
   "metadata": {},
   "source": [
    "## Yearly incomes"
   ]
  },
  {
   "cell_type": "code",
   "execution_count": null,
   "id": "b21eea8b-09ba-4531-b68d-8ceb33d47b43",
   "metadata": {},
   "outputs": [],
   "source": [
    "minus_amount = df_transactions[['customer_id', 'amount']][df_transactions['amount']<0]\n",
    "minus_amount = minus_amount.groupby(['customer_id']).sum()\n",
    "minus_amount.rename(columns = {'amount':'minus_amount'}, inplace = True )\n",
    "base_df = base_df.join(minus_amount, on='customer_id')\n",
    "base_df['minus_amount'] = base_df['minus_amount'].fillna(0)"
   ]
  },
  {
   "attachments": {},
   "cell_type": "markdown",
   "id": "2d89e18f",
   "metadata": {},
   "source": [
    "## Yearly expences"
   ]
  },
  {
   "cell_type": "code",
   "execution_count": null,
   "id": "92eac3a6",
   "metadata": {},
   "outputs": [],
   "source": [
    "minus_amount = df_transactions[['customer_id', 'amount']][df_transactions['amount']<0]\n",
    "minus_amount = minus_amount.groupby(['customer_id']).sum()\n",
    "minus_amount.rename(columns = {'amount':'minus_amount'}, inplace = True )\n",
    "base_df = base_df.join(minus_amount, on='customer_id')\n",
    "base_df['minus_amount'] = base_df['minus_amount'].fillna(0)"
   ]
  },
  {
   "attachments": {},
   "cell_type": "markdown",
   "id": "6a05e41d",
   "metadata": {},
   "source": [
    "## MCC"
   ]
  },
  {
   "cell_type": "code",
   "execution_count": null,
   "id": "6dc57f75",
   "metadata": {},
   "outputs": [],
   "source": [
    "base_df"
   ]
  }
 ],
 "metadata": {
  "kernelspec": {
   "display_name": "Python 3 (ipykernel)",
   "language": "python",
   "name": "python3"
  },
  "language_info": {
   "codemirror_mode": {
    "name": "ipython",
    "version": 3
   },
   "file_extension": ".py",
   "mimetype": "text/x-python",
   "name": "python",
   "nbconvert_exporter": "python",
   "pygments_lexer": "ipython3",
   "version": "3.9.13"
  }
 },
 "nbformat": 4,
 "nbformat_minor": 5
}

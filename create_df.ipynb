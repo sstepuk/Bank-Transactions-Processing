{
 "cells": [
  {
   "cell_type": "code",
   "execution_count": 1,
   "id": "de95a211-ee67-4b5a-a940-c3ff933e59ee",
   "metadata": {
    "tags": []
   },
   "outputs": [],
   "source": [
    "##Create our data frame based on user transaction"
   ]
  },
  {
   "cell_type": "code",
   "execution_count": null,
   "id": "f6567af8-4a50-4309-b44c-8a96f8368628",
   "metadata": {},
   "outputs": [],
   "source": [
    "import pandas as pd\n",
    "import math\n",
    "import seaborn as sns"
   ]
  },
  {
   "cell_type": "code",
   "execution_count": null,
   "id": "637fd212-e703-4ff3-a64c-1e105203e73d",
   "metadata": {},
   "outputs": [],
   "source": [
    "df_transactions = pd.read_csv('./data/transactions.csv')\n",
    "df_gender = pd.read_csv('./data/gender.csv')\n",
    "df_tr_mcc_codes = pd.read_csv('./data/tr_mcc_codes.csv', sep=';')\n",
    "df_tr_types = pd.read_csv('./data/tr_types.csv', sep=';')"
   ]
  },
  {
   "cell_type": "code",
   "execution_count": null,
   "id": "be5cf5d0-6437-4cce-a847-069a7f1fe510",
   "metadata": {},
   "outputs": [],
   "source": [
    "df_transactions = df_transactions.join(df_gender.set_index('customer_id'), on='customer_id')"
   ]
  },
  {
   "cell_type": "code",
   "execution_count": null,
   "id": "4df20ff8-1b86-4d60-929e-64305ecb8209",
   "metadata": {},
   "outputs": [],
   "source": [
    "df_transactions['amount'] = round(df_transactions['amount']/(22.459157718),3)"
   ]
  },
  {
   "cell_type": "code",
   "execution_count": null,
   "id": "dc63e5c6-3998-41ba-ac19-3129d06abdc0",
   "metadata": {},
   "outputs": [],
   "source": [
    "base_df = df_transactions[['customer_id', 'gender']]"
   ]
  },
  {
   "cell_type": "code",
   "execution_count": null,
   "id": "d0053ec4-a928-4a7e-9bd5-bb3869ad3bcf",
   "metadata": {},
   "outputs": [],
   "source": [
    "base_df = base_df.groupby(['customer_id']).mean()\n",
    "base_df = base_df.sort_values(by=['gender'])\n",
    "base_df"
   ]
  }
 ],
 "metadata": {
  "kernelspec": {
   "display_name": "Python 3 (ipykernel)",
   "language": "python",
   "name": "python3"
  },
  "language_info": {
   "codemirror_mode": {
    "name": "ipython",
    "version": 3
   },
   "file_extension": ".py",
   "mimetype": "text/x-python",
   "name": "python",
   "nbconvert_exporter": "python",
   "pygments_lexer": "ipython3",
   "version": "3.10.9"
  }
 },
 "nbformat": 4,
 "nbformat_minor": 5
}
